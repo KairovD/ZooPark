{
 "cells": [
  {
   "cell_type": "code",
   "execution_count": 2,
   "metadata": {
    "collapsed": true,
    "ExecuteTime": {
     "start_time": "2023-04-19T00:17:09.217799Z",
     "end_time": "2023-04-19T00:17:12.748869Z"
    }
   },
   "outputs": [
    {
     "data": {
      "text/plain": "[1, 3]"
     },
     "metadata": {},
     "output_type": "display_data"
    },
    {
     "data": {
      "text/plain": "1"
     },
     "metadata": {},
     "output_type": "display_data"
    }
   ],
   "source": [
    "nums: list[int] = [int(x) for x in input().split(\",\")]\n",
    "display(nums)\n",
    "target = int(input())\n",
    "def binarySearch(arr, k):\n",
    "    def simplifyArr(l,r):\n",
    "        if l > r:\n",
    "            return -1\n",
    "        if k < arr[l]:\n",
    "            m = (l + r) // 2\n",
    "            if arr[m] > arr[r]:\n",
    "                if arr[m + 1] < arr[r]:\n",
    "                    return binaryRec(m + 1, r)\n",
    "                return simplifyArr(m + 1, r)\n",
    "            else:\n",
    "                if k > arr[m]:\n",
    "                    return binaryRec(m, r)\n",
    "                elif k == arr[m]:\n",
    "                    return m\n",
    "                else:\n",
    "                    return simplifyArr(l, m - 1)\n",
    "        elif k > arr[l]:\n",
    "            m = (l + r) // 2\n",
    "            if arr[m] < arr[l]:\n",
    "                if arr[m - 1] > arr[l]:\n",
    "                    return binaryRec(l, m - 1)\n",
    "                return simplifyArr(l, m - 1)\n",
    "            else:\n",
    "                if k < arr[m]:\n",
    "                    return binaryRec(l, m)\n",
    "                elif k == arr[m]:\n",
    "                    return m\n",
    "                else:\n",
    "                    return simplifyArr(m + 1, r)\n",
    "        else:\n",
    "            return l\n",
    "    def binaryRec(l, r):\n",
    "        if (l > r):\n",
    "            return -1\n",
    "        m = (l + r) // 2\n",
    "        if k == arr[m]:\n",
    "            return m\n",
    "        if k < arr[m]:\n",
    "            return binaryRec(l, m - 1)\n",
    "        else:\n",
    "            return binaryRec(m + 1, r)\n",
    "\n",
    "    ans = simplifyArr(0, len(arr) - 1)\n",
    "    return ans\n",
    "display(binarySearch(nums, target))"
   ]
  },
  {
   "cell_type": "code",
   "execution_count": 3,
   "outputs": [
    {
     "name": "stdout",
     "output_type": "stream",
     "text": [
      "aaaaaaaaaa 0\n"
     ]
    }
   ],
   "source": [
    "nums: list[int] = [4,5,6,7,0,1,2]\n",
    "def SearchMin(arr):\n",
    "    def simplifyArr(l,r):\n",
    "        if l > r:\n",
    "            return -1\n",
    "        if arr[l] > arr[r]:\n",
    "            m = (l + r) // 2\n",
    "            if arr[m] > arr[l]:\n",
    "                return simplifyArr(m + 1, r)\n",
    "            else:\n",
    "                return simplifyArr(l, m)\n",
    "        else:\n",
    "            return arr[l]\n",
    "\n",
    "    ans = simplifyArr(0, len(arr) - 1)\n",
    "    return ans\n",
    "\n",
    "print(\"aaaaaaaaaa\", SearchMin(nums))"
   ],
   "metadata": {
    "collapsed": false,
    "ExecuteTime": {
     "start_time": "2023-04-19T10:13:36.401657Z",
     "end_time": "2023-04-19T10:13:36.446152Z"
    }
   }
  }
 ],
 "metadata": {
  "kernelspec": {
   "display_name": "Python 3",
   "language": "python",
   "name": "python3"
  },
  "language_info": {
   "codemirror_mode": {
    "name": "ipython",
    "version": 2
   },
   "file_extension": ".py",
   "mimetype": "text/x-python",
   "name": "python",
   "nbconvert_exporter": "python",
   "pygments_lexer": "ipython2",
   "version": "2.7.6"
  }
 },
 "nbformat": 4,
 "nbformat_minor": 0
}
